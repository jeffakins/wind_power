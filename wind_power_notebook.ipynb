{
 "cells": [
  {
   "cell_type": "markdown",
   "id": "0f359a2f",
   "metadata": {},
   "source": [
    "# Powered by the Earth's Breath\n",
    "![](https://evcvaluation.com/wp-content/uploads/2019/05/requestvaluationbanner.jpg)\n",
    "##### By Jeff Akins"
   ]
  },
  {
   "cell_type": "markdown",
   "id": "53622137",
   "metadata": {},
   "source": [
    "#### Imports"
   ]
  },
  {
   "cell_type": "code",
   "execution_count": 9,
   "id": "55151363",
   "metadata": {},
   "outputs": [],
   "source": [
    "import requests\n",
    "import h5pyd\n",
    "import numpy as np\n",
    "import pandas as pd\n",
    "import matplotlib.pyplot as plt\n",
    "import matplotlib.image as mpimg\n",
    "from env import user_key"
   ]
  },
  {
   "cell_type": "code",
   "execution_count": 11,
   "id": "760d95d3",
   "metadata": {},
   "outputs": [],
   "source": [
    "#response = requests.get()"
   ]
  },
  {
   "cell_type": "code",
   "execution_count": null,
   "id": "80a38109",
   "metadata": {},
   "outputs": [],
   "source": [
    "f = h5pyd.File(\"/nrel/wtk-us.h5\", 'r')"
   ]
  }
 ],
 "metadata": {
  "kernelspec": {
   "display_name": "Python 3",
   "language": "python",
   "name": "python3"
  },
  "language_info": {
   "codemirror_mode": {
    "name": "ipython",
    "version": 3
   },
   "file_extension": ".py",
   "mimetype": "text/x-python",
   "name": "python",
   "nbconvert_exporter": "python",
   "pygments_lexer": "ipython3",
   "version": "3.8.8"
  }
 },
 "nbformat": 4,
 "nbformat_minor": 5
}
